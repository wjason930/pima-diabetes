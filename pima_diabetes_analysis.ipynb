{
 "cells": [
  {
   "cell_type": "markdown",
   "id": "5263bcfa",
   "metadata": {},
   "source": [
    "# 🤖 Pima Indians Diabetes 預測分析\n",
    "本 Notebook 使用 Logistic Regression 模型，預測患者是否罹患糖尿病。資料來自 [Kaggle Diabetes Dataset](https://www.kaggle.com/datasets/uciml/pima-indians-diabetes-database)。\n",
    "\n",
    "---\n",
    "\n",
    "模型語言：Python + scikit-learn  \n"
   ]
  },
  {
   "cell_type": "code",
   "execution_count": null,
   "id": "97df3528",
   "metadata": {},
   "outputs": [],
   "source": [
    "import warnings\n",
    "warnings.simplefilter(\"ignore\", category=FutureWarning)\n",
    "\n",
    "import pandas as pd\n",
    "import numpy as np\n",
    "import matplotlib.pyplot as plt\n",
    "import seaborn as sns\n",
    "\n",
    "from sklearn.model_selection import train_test_split\n",
    "from sklearn.preprocessing import StandardScaler\n",
    "from sklearn.linear_model import LogisticRegression\n",
    "from sklearn.metrics import (confusion_matrix, ConfusionMatrixDisplay,\n",
    "                             classification_report, roc_curve, auc,\n",
    "                             accuracy_score, precision_score, recall_score,\n",
    "                             f1_score, roc_auc_score)\n",
    "\n",
    "# 讀取資料（你已經上傳過檔案）\n",
    "df = pd.read_csv(\"/mnt/data/diabetes.csv\")\n",
    "print(df.head())\n",
    "\n",
    "# 將不合理的 0 視為缺失值處理\n",
    "cols_with_zeros = [\"Glucose\", \"BloodPressure\", \"SkinThickness\", \"Insulin\", \"BMI\"]\n",
    "df[cols_with_zeros] = df[cols_with_zeros].replace(0, np.nan)\n",
    "df[cols_with_zeros] = df[cols_with_zeros].fillna(df[cols_with_zeros].median())\n",
    "\n",
    "# 切分資料與標準化\n",
    "X = df.drop(\"Outcome\", axis=1)\n",
    "y = df[\"Outcome\"]\n",
    "X_train, X_test, y_train, y_test = train_test_split(X, y, test_size=0.2, random_state=42, stratify=y)\n",
    "\n",
    "scaler = StandardScaler()\n",
    "X_train_scaled = scaler.fit_transform(X_train)\n",
    "X_test_scaled  = scaler.transform(X_test)\n",
    "\n",
    "# 建立邏輯回歸模型\n",
    "log_clf = LogisticRegression(max_iter=1000, class_weight=\"balanced\")\n",
    "log_clf.fit(X_train_scaled, y_train)\n",
    "\n",
    "# 預測與機率\n",
    "y_pred = log_clf.predict(X_test_scaled)\n",
    "y_prob = log_clf.predict_proba(X_test_scaled)[:, 1]\n"
   ]
  },
  {
   "cell_type": "code",
   "execution_count": null,
   "id": "ba3fbba0",
   "metadata": {},
   "outputs": [],
   "source": [
    "print(classification_report(y_test, y_pred, digits=3))\n",
    "cm = confusion_matrix(y_test, y_pred, labels=[1, 0])\n",
    "disp = ConfusionMatrixDisplay(confusion_matrix=cm,\n",
    "                              display_labels=[\"Diabetes\", \"No Diabetes\"])\n",
    "disp.plot(cmap=\"Blues\")\n",
    "plt.show()\n",
    "\n",
    "# ROC Curve\n",
    "fpr, tpr, _ = roc_curve(y_test, y_prob)\n",
    "roc_auc = auc(fpr, tpr)\n",
    "plt.figure()\n",
    "plt.plot(fpr, tpr, label=f\"AUC = {roc_auc:.3f}\")\n",
    "plt.plot([0,1],[0,1],'--')\n",
    "plt.title(\"ROC Curve\")\n",
    "plt.xlabel(\"FPR\")\n",
    "plt.ylabel(\"TPR\")\n",
    "plt.legend()\n",
    "plt.show()\n",
    "\n",
    "# 模型評分整理\n",
    "metrics = {\n",
    "    \"accuracy\": accuracy_score(y_test, y_pred),\n",
    "    \"precision\": precision_score(y_test, y_pred),\n",
    "    \"recall\": recall_score(y_test, y_pred),\n",
    "    \"f1_score\": f1_score(y_test, y_pred),\n",
    "    \"roc_auc\": roc_auc_score(y_test, y_prob)\n",
    "}\n",
    "metrics #顯示評分結果\n"
   ]
  },
  {
   "cell_type": "code",
   "execution_count": null,
   "id": "4a4ebb1d",
   "metadata": {},
   "outputs": [],
   "source": [
    "print(\"特徵係數：\")\n",
    "for name, coef in zip(X.columns, log_clf.coef_[0]):\n",
    "    print(f\"{name:25s}  {coef: .3f}\")\n"
   ]
  },
  {
   "cell_type": "markdown",
   "id": "bda4122a",
   "metadata": {},
   "source": [
    "## 📊 模型效能評估指標說明\n",
    "\n",
    "### ✅ Accuracy（準確率）\n",
    "- 預測正確的比例，但對不平衡資料較不敏感。\n",
    "\n",
    "### ✅ Precision（精確率）\n",
    "- 在所有被預測為「有糖尿病」的人中，有多少是真的。\n",
    "\n",
    "### ✅ Recall（召回率）\n",
    "- 所有實際有糖尿病的人中，有多少被成功找出來。\n",
    "\n",
    "### ✅ F1-score\n",
    "- Precision 和 Recall 的加權平均，是兩者的折衷指標。\n",
    "\n",
    "### ✅ ROC-AUC\n",
    "- 衡量模型整體分類能力，值越接近 1 越好。\n",
    "\n",
    "### ✅ 混淆矩陣\n",
    "- 詳細顯示預測錯在哪，便於進行錯誤分析。\n"
   ]
  },
  {
   "cell_type": "markdown",
   "id": "c563b1d1",
   "metadata": {},
   "source": [
    "## ✏️ 可以自行嘗試的改進方向\n",
    "\n",
    "- 嘗試其他模型：`RandomForest`, `XGBoost`, `SVM`\n",
    "- 增加特徵交互項或非線性特徵\n",
    "- 使用 SMOTE 做過採樣處理不平衡\n",
    "- 調整 decision threshold 以平衡 precision/recall\n",
    "- 用 k-fold cross validation 評估穩定性\n",
    "- 改用更精緻的填補方法（如 KNNImputer）\n",
    "\n",
    "---\n",
    "\n",
    "> 目前模型的 AUC 約為 **0.81**，表示具有良好的區分能力。未來可透過更多特徵工程與模型優化提升表現。\n"
   ]
  }
 ],
 "metadata": {
  "language_info": {
   "name": "python"
  }
 },
 "nbformat": 4,
 "nbformat_minor": 5
}
